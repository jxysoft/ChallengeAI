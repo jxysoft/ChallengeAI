{
 "cells": [
  {
   "cell_type": "code",
   "execution_count": 2,
   "metadata": {},
   "outputs": [
    {
     "name": "stderr",
     "output_type": "stream",
     "text": [
      "2023-11-16 12:21:09,484 - modelscope - INFO - Use user-specified model revision: v1.0.12\n",
      "2023-11-16 12:21:10,048 - modelscope - INFO - initialize model from /Users/jxy/.cache/modelscope/hub/ZhipuAI/chatglm2-6b\n",
      "Loading checkpoint shards:  29%|██▊       | 2/7 [00:10<00:28,  5.71s/it]"
     ]
    }
   ],
   "source": [
    "from modelscope.utils.constant import Tasks\n",
    "from modelscope import Model\n",
    "from modelscope.pipelines import pipeline\n",
    "model = Model.from_pretrained('ZhipuAI/chatglm3-6b', device_map='cpu', revision='v1.0.12')\n",
    "pipe = pipeline(task=Tasks.chat, model=model)\n",
    "inputs = {'text':'你好', 'history': []}\n",
    "result = pipe(inputs)\n",
    "inputs = {'text':'介绍下清华大学', 'history': result['history']}\n",
    "result = pipe(inputs)\n",
    "print(result)"
   ]
  },
  {
   "cell_type": "code",
   "execution_count": null,
   "metadata": {},
   "outputs": [],
   "source": []
  }
 ],
 "metadata": {
  "kernelspec": {
   "display_name": "stock",
   "language": "python",
   "name": "python3"
  },
  "language_info": {
   "codemirror_mode": {
    "name": "ipython",
    "version": 3
   },
   "file_extension": ".py",
   "mimetype": "text/x-python",
   "name": "python",
   "nbconvert_exporter": "python",
   "pygments_lexer": "ipython3",
   "version": "3.9.16"
  }
 },
 "nbformat": 4,
 "nbformat_minor": 2
}
