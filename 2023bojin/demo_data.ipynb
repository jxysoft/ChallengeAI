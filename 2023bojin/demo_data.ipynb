{
 "cells": [
  {
   "cell_type": "markdown",
   "metadata": {},
   "source": [
    "!git clone https://www.modelscope.cn/datasets/BJQW14B/bs_challenge_financial_14b_dataset.git"
   ]
  },
  {
   "cell_type": "markdown",
   "metadata": {},
   "source": [
    "# sqlite3"
   ]
  },
  {
   "cell_type": "code",
   "execution_count": null,
   "metadata": {},
   "outputs": [],
   "source": [
    "import sqlite3\n",
    "\n",
    "# 创建连接\n",
    "conn = sqlite3.connect('dataset/博金杯比赛数据.db')\n",
    "\n",
    "cursor = conn.cursor()\n",
    "\n",
    "# # 创建表\n",
    "# cursor.execute('''CREATE TABLE yourTableName\n",
    "#                   (column1 datatype, column2 datatype)''')\n",
    "\n",
    "# # 插入数据\n",
    "# cursor.execute(\"INSERT INTO yourTableName VALUES (value1, value2)\")\n",
    "\n",
    "# # 提交改动\n",
    "# conn.commit()\n",
    "\n",
    "# 查询数据\n",
    "cursor.execute(\"SELECT * FROM 基金基本信息 limit 1\")\n",
    "results = cursor.fetchall()\n",
    "for row in results:\n",
    "    print(row)\n",
    "\n",
    "cursor.execute(\"SELECT * FROM A股公司行业划分表 limit 1\")\n",
    "results = cursor.fetchall()\n",
    "for row in results:\n",
    "    print(row)\n",
    "cursor.close()\n",
    "conn.close()"
   ]
  },
  {
   "cell_type": "code",
   "execution_count": null,
   "metadata": {},
   "outputs": [],
   "source": [
    "import jsonlines\n",
    "\n",
    "def read_jsonl(path):\n",
    "    content = []\n",
    "    with jsonlines.open(path, \"r\") as json_file:\n",
    "        for obj in json_file.iter(type=dict, skip_invalid=True):\n",
    "            content.append(obj)\n",
    "    return content\n",
    "\n",
    "\n",
    "def write_jsonl(path, content):\n",
    "    with jsonlines.open(path, \"w\") as json_file:\n",
    "        json_file.write_all(content)\n",
    "\n",
    "\n",
    "content = read_jsonl(\"/Users/jxy/Projects/challenge/bs_challenge_financial_14b_dataset/question.json\")\n"
   ]
  },
  {
   "cell_type": "code",
   "execution_count": null,
   "metadata": {},
   "outputs": [],
   "source": [
    "for cont in content:\n",
    "    cont['answer'] = \"unknown\"\n",
    "write_jsonl(\"/Users/jxy/Projects/challenge/bs_challenge_financial_14b_dataset/submit_result.jsonl\", content=content)"
   ]
  },
  {
   "cell_type": "markdown",
   "metadata": {},
   "source": [
    "# try pypdf"
   ]
  },
  {
   "cell_type": "code",
   "execution_count": 167,
   "metadata": {},
   "outputs": [
    {
     "name": "stdout",
     "output_type": "stream",
     "text": [
      "total file=80\n"
     ]
    }
   ],
   "source": [
    "import re\n",
    "pattern = r'(.*招股意向书)?[\\s\\n]+.*[\\d-]+[\\s\\n]*'\n",
    "\n",
    "from langchain.document_loaders import *\n",
    "\n",
    "# pdffiles = [\n",
    "#     \"43571629ce9fb30b44ccefdca9f637102c16d1a2.PDF\",\n",
    "#     \"91b4426b075560a1a45247f9cfa9fa73d56c945c.PDF\",\n",
    "#     \"f587290218d881e18e88fc1431b022b2c5aca81a.PDF\",\n",
    "#     \"f9e84ce0edd5279773b3ca1f36a9e39d6ceaf220.PDF\",\n",
    "#     \"d336d607e1d431cbfe1f313e2234a13fcf49a16e.PDF\",\n",
    "#     \"a6f8156c08a1096c46470a1c5e1229daaaedf06e.PDF\",\n",
    "#     \"54d148902b889679830174597830f0d0f22c1073.PDF\",\n",
    "# ]\n",
    "import os\n",
    "pdfpath = \"/Users/jxy/Projects/person/ChallengeAI/2023bojin/data/pdf/\"\n",
    "txtpath = \"/Users/jxy/Projects/person/ChallengeAI/2023bojin/data/newtxt/\"\n",
    "filepaths = os.listdir(pdfpath)\n",
    "filepaths.sort()\n",
    "print(\"total file=\"  + str(len(filepaths)))\n",
    "\n",
    "for idx, filename in enumerate(filepaths):\n",
    "    print(\"begin i=\" + str(idx) + \" filename= \" + filename)\n",
    "    flagSub = False\n",
    "    # first PyPDFLoader ， then PyMuPDFLoader\n",
    "    with open(txtpath + filename.replace(\"PDF\", \"txt\"), \"w\") as out:\n",
    "        try:\n",
    "            docs = PyPDFLoader(\"/Users/jxy/Projects/person/ChallengeAI/2023bojin/data/pdf/\" + filename).load()\n",
    "        except Exception as e:\n",
    "            print(\"error i=\" + str(idx) + \" filename= \" + filename)\n",
    "            docs = PyMuPDFLoader(\"/Users/jxy/Projects/person/ChallengeAI/2023bojin/data/pdf/\" + filename).load()\n",
    "        for doc in docs:\n",
    "            # only for head\n",
    "            max_len = len(doc.page_content)\n",
    "            head = \"\"\n",
    "            rest = \"\"\n",
    "            if doc.metadata['page'] != 0: # 忽略第一页\n",
    "                if max_len > 150:\n",
    "                    head = doc.page_content[0:150]\n",
    "                    rest = doc.page_content[150:]\n",
    "                else:\n",
    "                    head = doc.page_content\n",
    "                res_head = re.sub(pattern, \"\", head, flags=re.DOTALL)\n",
    "                if len(res_head) != len(head):\n",
    "                    flagSub = True\n",
    "                out.write(res_head)\n",
    "                out.write(rest)\n",
    "            else:\n",
    "                out.write(doc.page_content)\n",
    "        print(\"end i =\" + str(idx) + \", filename= \" +filename + \" flagSub=\" + str(flagSub))\n",
    "print(\"end\")"
   ]
  },
  {
   "cell_type": "code",
   "execution_count": null,
   "metadata": {},
   "outputs": [],
   "source": [
    "from PyPDF2 import PdfReader\n",
    "reader = PdfReader(\"/Users/jxy/Projects/person/ChallengeAI/2023bojin/data/pdf/91b4426b075560a1a45247f9cfa9fa73d56c945c.PDF\")\n",
    "page = reader.pages[9]\n",
    "print(page.extract_text((0,90)))"
   ]
  },
  {
   "cell_type": "code",
   "execution_count": null,
   "metadata": {},
   "outputs": [],
   "source": [
    "# 蛮快的，并且质量还行，没有异常停止\n",
    "import pdfplumber\n",
    "docs = []\n",
    "pdffiles = [\n",
    "    \"/Users/jxy/Projects/person/ChallengeAI/2023bojin/data/pdf/91b4426b075560a1a45247f9cfa9fa73d56c945c.PDF\",\n",
    "    # \"/Users/jxy/Projects/person/ChallengeAI/2023bojin/data/pdf/f587290218d881e18e88fc1431b022b2c5aca81a.PDF\",\n",
    "    # \"/Users/jxy/Projects/person/ChallengeAI/2023bojin/data/pdf/f9e84ce0edd5279773b3ca1f36a9e39d6ceaf220.PDF\",\n",
    "    # \"/Users/jxy/Projects/person/ChallengeAI/2023bojin/data/pdf/d336d607e1d431cbfe1f313e2234a13fcf49a16e.PDF\",\n",
    "    # \"/Users/jxy/Projects/person/ChallengeAI/2023bojin/data/pdf/a6f8156c08a1096c46470a1c5e1229daaaedf06e.PDF\",\n",
    "    # \"/Users/jxy/Projects/person/ChallengeAI/2023bojin/data/pdf/54d148902b889679830174597830f0d0f22c1073.PDF\",\n",
    "]\n",
    "for file_path in pdffiles:\n",
    "    with pdfplumber.open(file_path) as pdf:\n",
    "        for page in pdf.pages:\n",
    "        # Extract the text\n",
    "        # first_page = pdf.pages[0]\n",
    "            # print(page.extract_text())\n",
    "            # print(\"\\n\\n\")\n",
    "        # Extract the data\n",
    "            # print(page.extract_text_lines()) \n",
    "            tables = page.extract_table()\n",
    "            if tables is not None:\n",
    "                print(\"\\ntext:\\n\")\n",
    "                print(page.extract_text(layout=True))  \n",
    "                print(\"\\ntables:\\n\")\n",
    "                for table in tables:\n",
    "                    print(str(table).replace(\"\\\\n\", \"\"))\n",
    "                break;\n",
    "        # # Extract the images\n",
    "        # images = pdf.get_images()\n",
    "        # for image in images:\n",
    "        #     print(image[\"page_number\"])\n",
    "            # with open(f\"image_{image['page_number']}.jpg\", \"wb\") as f:\n",
    "            #     f.write(image[\"data\"])\n"
   ]
  },
  {
   "cell_type": "code",
   "execution_count": null,
   "metadata": {},
   "outputs": [],
   "source": [
    "# PyMuPDF 质量一般\n",
    "import sys, pathlib, fitz\n",
    "for file_path in pdffiles:\n",
    "    with fitz.open(file_path) as doc:  # open document\n",
    "        # text = chr(12).join([page.get_text() for page in doc])\n",
    "        page = doc[9]\n",
    "        tables = page.find_tables()\n",
    "        print(doc[9].get_text())\n",
    "        print(\"\\ntables:\\n\")\n",
    "        for table in tables:\n",
    "            print(str(table).replace(\"\\\\n\", \"\"))\n",
    "        # print(text[0:3000])\n",
    "    # write as a binary file to support non-ASCII characters\n",
    "    # pathlib.Path(fname + \".txt\").write_bytes(text.encode())"
   ]
  },
  {
   "cell_type": "code",
   "execution_count": null,
   "metadata": {},
   "outputs": [],
   "source": [
    "# bord质量还行，但是会抛异常\n",
    "import typing\n",
    "import sys, pathlib\n",
    "from borb.pdf import Document\n",
    "from borb.pdf import PDF\n",
    "from borb.toolkit import SimpleTextExtraction\n",
    "outpath = \"/Users/jxy/Projects/person/ChallengeAI/2023bojin/data/newtxt/a.txt\"\n",
    "for file_path in pdffiles:\n",
    "# read the Document\n",
    "    doc: typing.Optional[Document] = None\n",
    "    l: SimpleTextExtraction = SimpleTextExtraction()\n",
    "    with open(file_path, \"rb\") as in_file_handle:\n",
    "        doc = PDF.loads(in_file_handle, [l])\n",
    "\n",
    "    # check whether we have read a Document\n",
    "    # assert doc is not None\n",
    "\n",
    "    # print the text on the first Page\n",
    "print(l.get_text()[9])\n",
    "# for page in l.get_text().pages:\n",
    "#     print(page)\n",
    "#     break;\n",
    "    # pathlib.Path(outpath).write_bytes(page)"
   ]
  },
  {
   "cell_type": "code",
   "execution_count": 154,
   "metadata": {},
   "outputs": [
    {
     "name": "stdout",
     "output_type": "stream",
     "text": [
      "PyPDFLoader\n",
      "Invalid Elementary Object starting with b'>' @1370: b'10011.4 1 Tf\\n1150013>c9814>]TJ\\n8.778.77140<0015003140623d20003>Tj\\n10.785 3354203'\n",
      "error\n",
      "PyPDFium2Loader\n",
      "page_content='天津力生制药股份有限公司\\r\\nTIANJIN LISHENG PHARMACEUTICAL CO., LTD \\r\\n（天津市南开区黄河道 491 号）\\r\\n首次公开发行股票\\r\\n招 股 意 向 书\\r\\n 保荐机构（主承销商）\\r\\n天津市南开区宾水西道 8 号\\n' metadata={'source': '/Users/jxy/Projects/person/ChallengeAI/2023bojin/data/pdf/43571629ce9fb30b44ccefdca9f637102c16d1a2.PDF', 'page': 0}\n",
      "PDFMinerLoader\n"
     ]
    },
    {
     "name": "stderr",
     "output_type": "stream",
     "text": [
      "Data-loss while decompressing corrupted data\n"
     ]
    },
    {
     "name": "stdout",
     "output_type": "stream",
     "text": [
      "'int' object is not iterable\n",
      "error\n",
      "PyMuPDFLoader\n",
      "page_content=' \\n天津力生制药股份有限公司 \\nTIANJIN LISHENG PHARMACEUTICAL CO., LTD \\n（天津市南开区黄河道 491 号） \\n首次公开发行股票 \\n招 股 意 向 书 \\n \\n \\n \\n \\n \\n \\n \\n  保荐机构（主承销商） \\n \\n \\n天津市南开区宾水西道 8 号 \\n \\n \\n' metadata={'source': '/Users/jxy/Projects/person/ChallengeAI/2023bojin/data/pdf/43571629ce9fb30b44ccefdca9f637102c16d1a2.PDF', 'file_path': '/Users/jxy/Projects/person/ChallengeAI/2023bojin/data/pdf/43571629ce9fb30b44ccefdca9f637102c16d1a2.PDF', 'page': 0, 'total_pages': 395, 'format': 'PDF 1.4', 'title': '<4D6963726F736F667420576F7264202D203031D5D0B9C9D2E2CFF2CAE9A3A8D7EED0C2A3A9A3A834D4C231C8D5BBF1B5C3C5FACEC4A3A92E646F63>', 'author': 'user', 'subject': '', 'keywords': '', 'creator': 'PScript5.dll Version 5.2', 'producer': 'Acrobat Distiller 7.0 (Windows)', 'creationDate': \"D:20100401095732+08'00'\", 'modDate': \"D:20100401095732+08'00'\", 'trapped': ''}\n",
      "PDFPlumberLoader\n"
     ]
    },
    {
     "name": "stderr",
     "output_type": "stream",
     "text": [
      "Data-loss while decompressing corrupted data\n"
     ]
    },
    {
     "name": "stdout",
     "output_type": "stream",
     "text": [
      "'int' object is not iterable\n",
      "error\n"
     ]
    }
   ],
   "source": [
    "# 异常处理\n",
    "from langchain.document_loaders import *\n",
    "# PyPDFLoader PyPDFium2Loader PDFMinerLoader PyMuPDFLoader PDFPlumberLoader MathpixPDFLoader \n",
    "filepath = \"/Users/jxy/Projects/person/ChallengeAI/2023bojin/data/pdf/43571629ce9fb30b44ccefdca9f637102c16d1a2.PDF\"\n",
    "loaders = [\n",
    "    PyPDFLoader(filepath), # 失败\n",
    "    PyPDFium2Loader(filepath), # 可以\n",
    "    # PDFMinerLoader(filepath), # 失败\n",
    "    PyMuPDFLoader(filepath), #  可以, 这个速度比较快，作为备选\n",
    "    # PDFPlumberLoader(filepath),  # 失败\n",
    "    # MathpixPDFLoader(filepath),\n",
    "]\n",
    "for loader in loaders:\n",
    "    try:\n",
    "        print(loader.__class__.__name__)\n",
    "        docs = loader.load()\n",
    "        page = docs[0]\n",
    "        print(page)\n",
    "    except Exception as e:\n",
    "        print(e)\n",
    "        print(\"error\")"
   ]
  },
  {
   "cell_type": "code",
   "execution_count": 163,
   "metadata": {},
   "outputs": [
    {
     "name": "stdout",
     "output_type": "stream",
     "text": [
      "page_content='广州中海达卫星导航技术股份有限公司                                                      招股意向书  \\n10 \\n 第一节   释    义 \\n在本招股意向书中，除非文意另有所指，下列简称具有以下特定意义：  \\n一、普通词语  \\n发行人、本公司、公司、\\n股份公司、中海达、中海达股份、母公司  指 广州中海达卫星导航技术股份有限公司  \\n原创数码、有限公司  指 广州原创数码科技有限公司，发行人整体变更前存续公司  \\n控股股东、实际控制人  指 本公司第一大股东廖定海，持有本公司 1,505.5814 万股，占发\\n行前股本总额的 40.1488% ，为本公司控股股东、实际控制人\\n中海达测绘  指 广州市中海达测绘仪器有限公司，本公司全资子公司  \\n华星定位  指 广州华星定位技术有限公司，本公司全资子公司  \\n国信弘盛  指 国信弘盛投资有限公司  \\nTrimble、天宝  指 Trimble Navigation Limited, 全球知名 GPS产品和解决方案提\\n供商， NASDAQ 上市公司  \\nLeica、徕卡  指 Leica Geosystems A.G. ，全球知名的测量仪器制造商、总部位\\n于瑞士  \\nTopcon、拓普康  指 Topcon Corporation ，日本测量仪器和医疗及工业用仪器制造\\n商，东京交易所上市公司   \\n南方测绘  指 广州南方测绘仪器有限公司  \\n上海华测、华测  指 上海华测导航技术有限公司  \\n合众思壮  指 北京合众思壮科技股份有限公司  \\n苏州一光  指 苏州一光仪器有限公司  \\nU-blox 指 U-blox Holding AG ，GPS芯片组供应商，瑞士交易所上市公\\n司 \\nSiRF 指 SiRF Technology, Inc. ，GPS芯片组供应商，总部位于美国  \\nNovAtel、诺瓦泰  指 NovAtel Inc ，GPS产品和技术供应商，总部位于加拿大  \\nJA V AD、佳瓦特  指 JA V AD GNSS Inc. ，GPS产品和技术供应商，总部位于美国  \\nMagellan 、麦哲伦  指 Magellan Navigation Inc. ，GPS产品制造商，总部位于美国  ' metadata={'source': '/Users/jxy/Projects/person/ChallengeAI/2023bojin/data/pdf/91b4426b075560a1a45247f9cfa9fa73d56c945c.PDF', 'page': 9}\n",
      "page_content='广州中海达卫星导航技术股份有限公司 招股意向书\\r\\n10 \\r\\n第一节 释 义\\r\\n在本招股意向书中，除非文意另有所指，下列简称具有以下特定意义：\\r\\n一、普通词语\\r\\n发行人、本公司、公司、\\r\\n股份公司、中海达、中\\r\\n海达股份、母公司\\r\\n指 广州中海达卫星导航技术股份有限公司\\r\\n原创数码、有限公司 指 广州原创数码科技有限公司，发行人整体变更前存续公司\\r\\n控股股东、实际控制人 指 本公司第一大股东廖定海，持有本公司 1,505.5814 万股，占发\\r\\n行前股本总额的 40.1488%，为本公司控股股东、实际控制人\\r\\n中海达测绘 指 广州市中海达测绘仪器有限公司，本公司全资子公司\\r\\n华星定位 指 广州华星定位技术有限公司，本公司全资子公司\\r\\n国信弘盛 指 国信弘盛投资有限公司\\r\\nTrimble、天宝 指 Trimble Navigation Limited, 全球知名GPS产品和解决方案提\\r\\n供商，NASDAQ上市公司\\r\\nLeica、徕卡 指 Leica Geosystems A.G.，全球知名的测量仪器制造商、总部位\\r\\n于瑞士\\r\\nTopcon、拓普康 指 Topcon Corporation，日本测量仪器和医疗及工业用仪器制造\\r\\n商，东京交易所上市公司 \\r\\n南方测绘 指 广州南方测绘仪器有限公司\\r\\n上海华测、华测 指 上海华测导航技术有限公司\\r\\n合众思壮 指 北京合众思壮科技股份有限公司\\r\\n苏州一光 指 苏州一光仪器有限公司\\r\\nU-blox 指 U-blox Holding AG，GPS 芯片组供应商，瑞士交易所上市公\\r\\n司\\r\\nSiRF 指 SiRF Technology, Inc. ，GPS芯片组供应商，总部位于美国\\r\\nNovAtel、诺瓦泰 指 NovAtel Inc，GPS 产品和技术供应商，总部位于加拿大\\r\\nJAVAD、佳瓦特 指 JAVAD GNSS Inc.，GPS 产品和技术供应商，总部位于美国\\r\\nMagellan、麦哲伦 指 Magellan Navigation Inc.，GPS 产品制造商，总部位于美国\\n' metadata={'source': '/Users/jxy/Projects/person/ChallengeAI/2023bojin/data/pdf/91b4426b075560a1a45247f9cfa9fa73d56c945c.PDF', 'page': 9}\n",
      "page_content='广州中海达卫星导航技术股份有限公司                                                     招股意向书 \\n10 \\n \\n第一节  释    义 \\n在本招股意向书中，除非文意另有所指，下列简称具有以下特定意义： \\n一、普通词语 \\n发行人、本公司、公司、\\n股份公司、中海达、中\\n海达股份、母公司 \\n指 \\n广州中海达卫星导航技术股份有限公司 \\n原创数码、有限公司 \\n指 \\n广州原创数码科技有限公司，发行人整体变更前存续公司 \\n控股股东、实际控制人 \\n指 \\n本公司第一大股东廖定海，持有本公司 1,505.5814 万股，占发\\n行前股本总额的 40.1488%，为本公司控股股东、实际控制人\\n中海达测绘 \\n指 \\n广州市中海达测绘仪器有限公司，本公司全资子公司 \\n华星定位 \\n指 \\n广州华星定位技术有限公司，本公司全资子公司 \\n国信弘盛 \\n指 \\n国信弘盛投资有限公司 \\nTrimble、天宝 \\n指 \\nTrimble Navigation Limited, 全球知名GPS产品和解决方案提\\n供商，NASDAQ上市公司 \\nLeica、徕卡 \\n指 \\nLeica Geosystems A.G.，全球知名的测量仪器制造商、总部位\\n于瑞士 \\nTopcon、拓普康 \\n指 \\nTopcon Corporation，日本测量仪器和医疗及工业用仪器制造\\n商，东京交易所上市公司  \\n南方测绘 \\n指 \\n广州南方测绘仪器有限公司 \\n上海华测、华测 \\n指 \\n上海华测导航技术有限公司 \\n合众思壮 \\n指 \\n北京合众思壮科技股份有限公司 \\n苏州一光 \\n指 \\n苏州一光仪器有限公司 \\nU-blox \\n指 \\nU-blox Holding AG，GPS 芯片组供应商，瑞士交易所上市公\\n司 \\nSiRF \\n指 \\nSiRF Technology, Inc. ，GPS芯片组供应商，总部位于美国 \\nNovAtel、诺瓦泰 \\n指 \\nNovAtel Inc，GPS 产品和技术供应商，总部位于加拿大 \\nJAVAD、佳瓦特 \\n指 \\nJAVAD GNSS Inc.，GPS 产品和技术供应商，总部位于美国 \\nMagellan、麦哲伦 \\n指 \\nMagellan Navigation Inc.，GPS 产品制造商，总部位于美国 \\n' metadata={'source': '/Users/jxy/Projects/person/ChallengeAI/2023bojin/data/pdf/91b4426b075560a1a45247f9cfa9fa73d56c945c.PDF', 'file_path': '/Users/jxy/Projects/person/ChallengeAI/2023bojin/data/pdf/91b4426b075560a1a45247f9cfa9fa73d56c945c.PDF', 'page': 9, 'total_pages': 330, 'format': 'PDF 1.4', 'title': 'Microsoft Word - 2-0 招股意向书', 'author': 'admin', 'subject': '', 'keywords': '', 'creator': 'PScript5.dll Version 5.2', 'producer': 'Acrobat Distiller 7.0 (Windows)', 'creationDate': \"D:20110118160354+08'00'\", 'modDate': \"D:20110118160354+08'00'\", 'trapped': ''}\n",
      "page_content='广州中海达卫星导航技术股份有限公司 招股意向书\\n第一节 释 义\\n在本招股意向书中，除非文意另有所指，下列简称具有以下特定意义：\\n一、普通词语\\n发行人、本公司、公司、\\n股份公司、中海达、中 指 广州中海达卫星导航技术股份有限公司\\n海达股份、母公司\\n原创数码、有限公司 指 广州原创数码科技有限公司，发行人整体变更前存续公司\\n本公司第一大股东廖定海，持有本公司1,505.5814万股，占发\\n控股股东、实际控制人 指\\n行前股本总额的40.1488%，为本公司控股股东、实际控制人\\n中海达测绘 指 广州市中海达测绘仪器有限公司，本公司全资子公司\\n华星定位 指 广州华星定位技术有限公司，本公司全资子公司\\n国信弘盛 指 国信弘盛投资有限公司\\nTrimble Navigation Limited, 全球知名GPS产品和解决方案提\\nTrimble、天宝 指\\n供商，NASDAQ上市公司\\nLeica Geosystems A.G.，全球知名的测量仪器制造商、总部位\\nLeica、徕卡 指\\n于瑞士\\nTopcon Corporation，日本测量仪器和医疗及工业用仪器制造\\nTopcon、拓普康 指\\n商，东京交易所上市公司\\n南方测绘 指 广州南方测绘仪器有限公司\\n上海华测、华测 指 上海华测导航技术有限公司\\n合众思壮 指 北京合众思壮科技股份有限公司\\n苏州一光 指 苏州一光仪器有限公司\\nU-blox Holding AG，GPS芯片组供应商，瑞士交易所上市公\\nU-blox 指\\n司\\nSiRF 指 SiRF Technology, Inc. ，GPS芯片组供应商，总部位于美国\\nNovAtel、诺瓦泰 指 NovAtel Inc，GPS产品和技术供应商，总部位于加拿大\\nJAVAD、佳瓦特 指 JAVAD GNSS Inc.，GPS产品和技术供应商，总部位于美国\\nMagellan、麦哲伦 指 Magellan Navigation Inc.，GPS产品制造商，总部位于美国\\n10\\n' metadata={'source': '/Users/jxy/Projects/person/ChallengeAI/2023bojin/data/pdf/91b4426b075560a1a45247f9cfa9fa73d56c945c.PDF', 'file_path': '/Users/jxy/Projects/person/ChallengeAI/2023bojin/data/pdf/91b4426b075560a1a45247f9cfa9fa73d56c945c.PDF', 'page': 9, 'total_pages': 330, 'CreationDate': \"D:20110118160354+08'00'\", 'Author': 'admin', 'Creator': 'PScript5.dll Version 5.2', 'Producer': 'Acrobat Distiller 7.0 (Windows)', 'ModDate': \"D:20110118160354+08'00'\", 'Title': 'Microsoft Word - 2-0 招股意向书'}\n"
     ]
    }
   ],
   "source": [
    "# 表格处理\n",
    "from langchain.document_loaders import *\n",
    "# PyPDFLoader PyPDFium2Loader PDFMinerLoader PyMuPDFLoader PDFPlumberLoader MathpixPDFLoader \n",
    "filepath = \"/Users/jxy/Projects/person/ChallengeAI/2023bojin/data/pdf/91b4426b075560a1a45247f9cfa9fa73d56c945c.PDF\"\n",
    "loaders = [\n",
    "    PyPDFLoader(filepath), # 比较好 \\n\n",
    "    PyPDFium2Loader(filepath), # 一般, \\r\\r\n",
    "    # PDFMinerLoader(filepath), # 只有一页\n",
    "    PyMuPDFLoader(filepath), # 一般 \\n\n",
    "    # PDFPlumberLoader(filepath),  # table 处理比较乱\n",
    "    # MathpixPDFLoader(filepath), # 需要其他环境依赖\n",
    "]\n",
    "for loader in loaders:\n",
    "    docs = loader.load();\n",
    "    print(docs[9])\n"
   ]
  }
 ],
 "metadata": {
  "kernelspec": {
   "display_name": "stock",
   "language": "python",
   "name": "python3"
  },
  "language_info": {
   "codemirror_mode": {
    "name": "ipython",
    "version": 3
   },
   "file_extension": ".py",
   "mimetype": "text/x-python",
   "name": "python",
   "nbconvert_exporter": "python",
   "pygments_lexer": "ipython3",
   "version": "3.9.16"
  }
 },
 "nbformat": 4,
 "nbformat_minor": 2
}
