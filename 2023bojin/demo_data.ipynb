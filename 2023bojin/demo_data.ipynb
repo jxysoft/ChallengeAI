{
 "cells": [
  {
   "cell_type": "code",
   "execution_count": 2,
   "metadata": {},
   "outputs": [
    {
     "name": "stdout",
     "output_type": "stream",
     "text": [
      "('000006', '西部利得量化成长混合型发起式证券投资基金A类', '西部利得量化成长混合A', '西部利得基金管理有限公司', '中国农业银行股份有限公司', '混合型', '20190319', '30001231', '1.2%', '0.1%')\n",
      "('000065', '20190115', '中信行业分类', '建筑', '建筑施工Ⅱ')\n"
     ]
    }
   ],
   "source": [
    "import sqlite3\n",
    "\n",
    "# 创建连接\n",
    "conn = sqlite3.connect('dataset/博金杯比赛数据.db')\n",
    "\n",
    "cursor = conn.cursor()\n",
    "\n",
    "# # 创建表\n",
    "# cursor.execute('''CREATE TABLE yourTableName\n",
    "#                   (column1 datatype, column2 datatype)''')\n",
    "\n",
    "# # 插入数据\n",
    "# cursor.execute(\"INSERT INTO yourTableName VALUES (value1, value2)\")\n",
    "\n",
    "# # 提交改动\n",
    "# conn.commit()\n",
    "\n",
    "# 查询数据\n",
    "cursor.execute(\"SELECT * FROM 基金基本信息 limit 1\")\n",
    "results = cursor.fetchall()\n",
    "for row in results:\n",
    "    print(row)\n",
    "\n",
    "cursor.execute(\"SELECT * FROM A股公司行业划分表 limit 1\")\n",
    "results = cursor.fetchall()\n",
    "for row in results:\n",
    "    print(row)\n",
    "cursor.close()\n",
    "conn.close()"
   ]
  },
  {
   "cell_type": "code",
   "execution_count": 4,
   "metadata": {},
   "outputs": [],
   "source": [
    "import jsonlines\n",
    "\n",
    "def read_jsonl(path):\n",
    "    content = []\n",
    "    with jsonlines.open(path, \"r\") as json_file:\n",
    "        for obj in json_file.iter(type=dict, skip_invalid=True):\n",
    "            content.append(obj)\n",
    "    return content\n",
    "\n",
    "\n",
    "def write_jsonl(path, content):\n",
    "    with jsonlines.open(path, \"w\") as json_file:\n",
    "        json_file.write_all(content)\n",
    "\n",
    "\n",
    "content = read_jsonl(\"/Users/jxy/Projects/challenge/bs_challenge_financial_14b_dataset/question.json\")\n"
   ]
  },
  {
   "cell_type": "code",
   "execution_count": 6,
   "metadata": {},
   "outputs": [],
   "source": [
    "for cont in content:\n",
    "    cont['answer'] = \"unknown\"\n",
    "write_jsonl(\"/Users/jxy/Projects/challenge/bs_challenge_financial_14b_dataset/submit_result.jsonl\", content=content)"
   ]
  }
 ],
 "metadata": {
  "kernelspec": {
   "display_name": "stock",
   "language": "python",
   "name": "python3"
  },
  "language_info": {
   "codemirror_mode": {
    "name": "ipython",
    "version": 3
   },
   "file_extension": ".py",
   "mimetype": "text/x-python",
   "name": "python",
   "nbconvert_exporter": "python",
   "pygments_lexer": "ipython3",
   "version": "3.9.16"
  }
 },
 "nbformat": 4,
 "nbformat_minor": 2
}
