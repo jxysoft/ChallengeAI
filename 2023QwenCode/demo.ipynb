{
 "cells": [
  {
   "cell_type": "markdown",
   "metadata": {},
   "source": [
    "# 安装部署"
   ]
  },
  {
   "cell_type": "code",
   "execution_count": null,
   "metadata": {},
   "outputs": [],
   "source": [
    "!git clone https://github.com/codefuse-ai/MFTCoder.git\n",
    "\n",
    "!cd MFTCoder && git checkout codeqwen_competition && souce init_env.sh\n",
    "\n",
    "# deepspeed==0.9.3\n",
    "# transformers==4.32.0\n",
    "# accelerate==0.21.0\n",
    "# peft==0.4.0\n",
    "# BitsAndBytes==0.40.2\n",
    "# xformers==0.0.21\n",
    "# !pip install -U pydantic==1.10.12\n",
    "!pip install zstandard\n",
    "!pip install ftfy\n",
    "! cd MFTCoder/mft_peft_hf\n",
    "! pip install -U \"numpy<1.24.0\""
   ]
  },
  {
   "cell_type": "code",
   "execution_count": null,
   "metadata": {},
   "outputs": [],
   "source": [
    "!git clone https://www.modelscope.cn/qwen/Qwen-1_8B-Chat.git"
   ]
  },
  {
   "cell_type": "code",
   "execution_count": null,
   "metadata": {},
   "outputs": [],
   "source": [
    "# download data\n",
    "git clone https://huggingface.co/THUDM/chatglm3-6b.git"
   ]
  },
  {
   "cell_type": "markdown",
   "metadata": {},
   "source": [
    "# 运行"
   ]
  },
  {
   "cell_type": "code",
   "execution_count": null,
   "metadata": {},
   "outputs": [],
   "source": [
    "source "
   ]
  },
  {
   "cell_type": "markdown",
   "metadata": {},
   "source": [
    "# merge"
   ]
  },
  {
   "cell_type": "code",
   "execution_count": null,
   "metadata": {},
   "outputs": [],
   "source": [
    "python merge_base_and_lora_to_hf.py  --model-path /mnt/workspace/Qwen-1_8B-Chat --lora /mnt/workspace/output/step_82000 \\\n",
    "    --save-path /mnt/workspace/models \\\n",
    "    --model-type qwen"
   ]
  },
  {
   "cell_type": "markdown",
   "metadata": {},
   "source": [
    "# evaluate"
   ]
  },
  {
   "cell_type": "code",
   "execution_count": null,
   "metadata": {},
   "outputs": [],
   "source": [
    "!source src/evaluation/launch_generate_codeqwen.sh:"
   ]
  },
  {
   "cell_type": "markdown",
   "metadata": {},
   "source": [
    "# 打包上传"
   ]
  },
  {
   "cell_type": "code",
   "execution_count": null,
   "metadata": {},
   "outputs": [],
   "source": [
    "tar cvfz generations_Qwen-1_8B-chat.tar.gz generations_Qwen-1_8B-chat/\n",
    "zip -q -r generations_Qwen-1_8B-chat.zip generations_Qwen-1_8B-chat/"
   ]
  },
  {
   "cell_type": "markdown",
   "metadata": {},
   "source": [
    "# local evaluate"
   ]
  },
  {
   "cell_type": "code",
   "execution_count": null,
   "metadata": {},
   "outputs": [],
   "source": [
    "# "
   ]
  }
 ],
 "metadata": {
  "kernelspec": {
   "display_name": "stock",
   "language": "python",
   "name": "python3"
  },
  "language_info": {
   "name": "python",
   "version": "3.9.16"
  }
 },
 "nbformat": 4,
 "nbformat_minor": 2
}
