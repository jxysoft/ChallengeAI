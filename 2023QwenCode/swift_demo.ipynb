{
 "cells": [
  {
   "cell_type": "markdown",
   "metadata": {},
   "source": [
    "# 安装部署"
   ]
  },
  {
   "cell_type": "code",
   "execution_count": null,
   "metadata": {},
   "outputs": [],
   "source": [
    "!git clone https://github.com/modelscope/swift.git\n",
    "!cd swift\n",
    "!pip install -e .[llm]\n",
    "# 如果你想要使用deepspeed.\n",
    "!pip install deepspeed -U\n",
    "\n",
    "# 如果你想要使用基于auto_gptq的qlora训练. (推荐, 效果优于bnb)\n",
    "# 支持auto_gptq的模型: `https://github.com/modelscope/swift/blob/main/docs/source/LLM/支持的模型和数据集.md#模型`\n",
    "# auto_gptq和cuda版本有对应关系，请按照`https://github.com/PanQiWei/AutoGPTQ#quick-installation`选择版本\n",
    "!pip install auto_gptq -U\n",
    "\n",
    "# 如果你想要使用基于bnb的qlora训练.\n",
    "!pip install bitsandbytes -U\n",
    "# 环境对齐 (如果你运行错误, 可以跑下面的代码, 仓库使用最新环境测试)\n",
    "# pip install -r requirements/framework.txt  -U\n",
    "# pip install -r requirements/llm.txt  -U"
   ]
  },
  {
   "cell_type": "markdown",
   "metadata": {},
   "source": [
    "# 微调"
   ]
  },
  {
   "cell_type": "code",
   "execution_count": null,
   "metadata": {},
   "outputs": [],
   "source": [
    "!cd swift/examples/pytorch/llm \n",
    "!source scripts/qwen_1_8b_chat/full/sft.sh"
   ]
  },
  {
   "cell_type": "code",
   "execution_count": null,
   "metadata": {},
   "outputs": [],
   "source": [
    "swift merge-lora --ckpt_dir /mnt/workspace/swift/examples/pytorch/llm/output/qwen-1_8b-chat/v0-20231218-152413/checkpoint-800"
   ]
  }
 ],
 "metadata": {
  "language_info": {
   "name": "python"
  }
 },
 "nbformat": 4,
 "nbformat_minor": 2
}
