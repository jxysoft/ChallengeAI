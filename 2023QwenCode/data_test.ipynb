{
 "cells": [
  {
   "cell_type": "markdown",
   "metadata": {},
   "source": [
    "# CodeExercise-Python-27k"
   ]
  },
  {
   "cell_type": "code",
   "execution_count": null,
   "metadata": {},
   "outputs": [],
   "source": [
    "from datasets import load_dataset\n",
    "\n",
    "# to load python for example\n",
    "ds = load_dataset('codefuse-ai/CodeExercise-Python-27k')"
   ]
  },
  {
   "cell_type": "markdown",
   "metadata": {},
   "source": [
    "# StarCoder Training Dataset, too big"
   ]
  },
  {
   "cell_type": "code",
   "execution_count": null,
   "metadata": {},
   "outputs": [],
   "source": [
    "from datasets import load_dataset\n",
    "\n",
    "# to load python for example\n",
    "ds = load_dataset(\"bigcode/starcoderdata\", data_dir=\"python\", split=\"train\")\n",
    "ds_cpp = load_dataset(\"bigcode/starcoderdata\", data_dir=\"cpp\", split=\"train\")\n",
    "ds_rust = load_dataset(\"bigcode/starcoderdata\", data_dir=\"rust\", split=\"train\")\n",
    "ds_js = load_dataset(\"bigcode/starcoderdata\", data_dir=\"js\", split=\"train\")\n",
    "ds_java = load_dataset(\"bigcode/starcoderdata\", data_dir=\"java\", split=\"train\")\n",
    "ds_go = load_dataset(\"bigcode/starcoderdata\", data_dir=\"go\", split=\"train\")"
   ]
  },
  {
   "cell_type": "markdown",
   "metadata": {},
   "source": []
  },
  {
   "cell_type": "markdown",
   "metadata": {},
   "source": [
    "# codeparrot/self-instruct-starcoder"
   ]
  },
  {
   "cell_type": "code",
   "execution_count": null,
   "metadata": {},
   "outputs": [],
   "source": [
    "from datasets import load_dataset\n",
    "\n",
    "# to load python for example\n",
    "ds = load_dataset(\"codeparrot/self-instruct-starcoder\")\n",
    "import pandas as pd\n",
    "df = pd.DataFrame(ds['curated'])"
   ]
  },
  {
   "cell_type": "code",
   "execution_count": null,
   "metadata": {},
   "outputs": [],
   "source": [
    "data_name = \"instruct_starcoder\"\n",
    "output_path = data_name + \".jsonl\"\n",
    "output = pd.DataFrame(columns=['id', 'data_name', 'chat_rounds'])\n",
    "for i, row in df.iterrows():\n",
    "    chat_rounds = []\n",
    "    prompt = row['instruction']\n",
    "    answer = row['output']\n",
    "    round1 = {\"role\": \"human\", \"content\": prompt, \"chat_round_id\": 0}\n",
    "    chat_rounds.append(round1)\n",
    "    round2 = {\"role\": \"bot\", \"content\": answer, \"chat_round_id\": 1}\n",
    "    chat_rounds.append(round2)\n",
    "    output.at[i, 'id'] = i\n",
    "    output.at[i, 'data_name'] = data_name\n",
    "    output.at[i, 'chat_rounds'] = chat_rounds\n",
    "with open(output_path, \"w\") as f:\n",
    "    f.write(output.to_json(orient='records', lines=True))"
   ]
  },
  {
   "cell_type": "markdown",
   "metadata": {},
   "source": [
    "# HuggingFaceH4/CodeAlpaca_20K"
   ]
  },
  {
   "cell_type": "code",
   "execution_count": null,
   "metadata": {},
   "outputs": [],
   "source": [
    "from datasets import load_dataset\n",
    "import pandas as pd\n",
    "\n",
    "# to load python for example\n",
    "ds = load_dataset(\"HuggingFaceH4/CodeAlpaca_20K\", split='train+test')\n",
    "# ds = load_dataset(\"HuggingFaceH4/CodeAlpaca_20K\")\n",
    "df_pandas = pd.DataFrame(ds)"
   ]
  },
  {
   "cell_type": "code",
   "execution_count": null,
   "metadata": {},
   "outputs": [],
   "source": [
    "# df_pandas.(columns={'code': 'code', 'docstring': 'docstring'}, inplace=True)\n",
    "# res = df_pandas.to_json(orient='records')\n",
    "# write_jsonl('test.jsonl', res)\n",
    "output_path = \"CodeAlpaca_20K.jsonl\"\n",
    "# df_pandas = df_pandas[0:10]\n",
    "df_res = df_pandas.rename(columns={'completion': 'answer'})\n",
    "\n",
    "output = pd.DataFrame(columns=['id', 'data_name', 'chat_rounds'])\n",
    "for i, row in df_res.iterrows():\n",
    "    chat_rounds = []\n",
    "    prompt = row['prompt']\n",
    "    answer = row['answer']\n",
    "    round1 = {\"role\": \"human\", \"content\": prompt, \"chat_round_id\": 0}\n",
    "    chat_rounds.append(round1)\n",
    "    round2 = {\"role\": \"bot\", \"content\": answer, \"chat_round_id\": 1}\n",
    "    chat_rounds.append(round2)\n",
    "    output.at[i, 'id'] = i\n",
    "    output.at[i, 'data_name'] = \"CodeAlpaca_20K\"\n",
    "    output.at[i, 'chat_rounds'] = chat_rounds\n",
    "with open(output_path, \"w\") as f:\n",
    "    f.write(output.to_json(orient='records', lines=True))"
   ]
  },
  {
   "cell_type": "markdown",
   "metadata": {},
   "source": [
    "# evol-instruct-66k"
   ]
  },
  {
   "cell_type": "code",
   "execution_count": null,
   "metadata": {},
   "outputs": [],
   "source": [
    "import json\n",
    "\n",
    "with open('/Users/jxy/Projects/person/ChallengeAI/2023QwenCode/data/Evol-Instruct-66k.json') as user_file:\n",
    "  file_contents = user_file.read()\n",
    "  \n",
    "# print(file_contents)\n",
    "parsed_json = json.loads(file_contents)"
   ]
  },
  {
   "cell_type": "code",
   "execution_count": null,
   "metadata": {},
   "outputs": [],
   "source": [
    "data_name = \"Evol-Instruct-66k\"\n",
    "output_path = data_name + \".jsonl\"\n",
    "output = pd.DataFrame(columns=['id', 'data_name', 'chat_rounds'])\n",
    "for i, row in enumerate(parsed_json):\n",
    "    chat_rounds = []\n",
    "    prompt = row['instruction']\n",
    "    answer = row['output']\n",
    "    round1 = {\"role\": \"human\", \"content\": prompt, \"chat_round_id\": 0}\n",
    "    chat_rounds.append(round1)\n",
    "    round2 = {\"role\": \"bot\", \"content\": answer, \"chat_round_id\": 1}\n",
    "    chat_rounds.append(round2)\n",
    "    output.at[i, 'id'] = i\n",
    "    output.at[i, 'data_name'] = data_name\n",
    "    output.at[i, 'chat_rounds'] = chat_rounds\n",
    "with open(output_path, \"w\") as f:\n",
    "    f.write(output.to_json(orient='records', lines=True))"
   ]
  },
  {
   "cell_type": "markdown",
   "metadata": {},
   "source": [
    "# theblackcat102/evol-codealpaca-v1"
   ]
  },
  {
   "cell_type": "code",
   "execution_count": null,
   "metadata": {},
   "outputs": [],
   "source": [
    "from datasets import load_dataset\n",
    "import pandas as pd\n",
    "\n",
    "# to load python for example\n",
    "ds = load_dataset(\"theblackcat102/evol-codealpaca-v1\")\n",
    "df_pandas = pd.DataFrame(ds)"
   ]
  },
  {
   "cell_type": "code",
   "execution_count": null,
   "metadata": {},
   "outputs": [],
   "source": [
    "len(ds['train'])"
   ]
  },
  {
   "cell_type": "markdown",
   "metadata": {},
   "source": [
    "# Safurai/Code-Instruct-700k"
   ]
  },
  {
   "cell_type": "code",
   "execution_count": null,
   "metadata": {},
   "outputs": [],
   "source": [
    "\n",
    "from datasets import load_dataset\n",
    "import pandas as pd\n",
    "\n",
    "ds = load_dataset(\"Safurai/Code-Instruct-700k\")\n",
    "df_pandas = pd.DataFrame(ds)"
   ]
  },
  {
   "cell_type": "code",
   "execution_count": null,
   "metadata": {},
   "outputs": [],
   "source": [
    "df_pandas = pd.DataFrame(ds['train'])"
   ]
  },
  {
   "cell_type": "code",
   "execution_count": null,
   "metadata": {},
   "outputs": [],
   "source": [
    "data_name = \"Code-Instruct-700k\"\n",
    "output_path = data_name + \".jsonl\"\n",
    "output = pd.DataFrame(columns=['id', 'data_name', 'chat_rounds'])\n",
    "id = 0\n",
    "file_id = 0\n",
    "idx = 0\n",
    "for i, row in df_pandas.iterrows():\n",
    "    if i % 1000 == 0:\n",
    "        print(f\"i={i}, id={id}, output len={len(output)}\")\n",
    "    if i != 0 and i % 70000 == 0:\n",
    "        output_path = data_name + \"_\" + str(file_id) + \".jsonl\"\n",
    "        print(\"begin save file \" + output_path)\n",
    "        file_id += 1\n",
    "        id = 0\n",
    "        with open(output_path, \"w\") as f:\n",
    "            f.write(output.to_json(orient='records', lines=True))\n",
    "        output = pd.DataFrame(columns=['id', 'data_name', 'chat_rounds'])\n",
    "        \n",
    "    program = row['programming_language']\n",
    "    if program != 'Rust' and program != 'Go' and program != 'C++' and program != 'Python' and program != 'Java' and program != 'JavaScript':\n",
    "        continue;\n",
    "    chat_rounds = []\n",
    "    prompt = row['prompt']\n",
    "    answer = row['response']\n",
    "    round1 = {\"role\": \"human\", \"content\": prompt, \"chat_round_id\": 0}\n",
    "    chat_rounds.append(round1)\n",
    "    round2 = {\"role\": \"bot\", \"content\": answer, \"chat_round_id\": 1}\n",
    "    chat_rounds.append(round2)\n",
    "    output.at[id, 'id'] = id\n",
    "    output.at[id, 'data_name'] = data_name\n",
    "    output.at[id, 'chat_rounds'] = chat_rounds\n",
    "    id += 1\n",
    "    idx += 1\n",
    "    \n",
    "output_path = data_name + \"_\" + str(file_id) + \".jsonl\"\n",
    "with open(output_path, \"w\") as f:\n",
    "    f.write(output.to_json(orient='records', lines=True))"
   ]
  }
 ],
 "metadata": {
  "kernelspec": {
   "display_name": "stock",
   "language": "python",
   "name": "python3"
  },
  "language_info": {
   "codemirror_mode": {
    "name": "ipython",
    "version": 3
   },
   "file_extension": ".py",
   "mimetype": "text/x-python",
   "name": "python",
   "nbconvert_exporter": "python",
   "pygments_lexer": "ipython3",
   "version": "3.9.16"
  }
 },
 "nbformat": 4,
 "nbformat_minor": 2
}
